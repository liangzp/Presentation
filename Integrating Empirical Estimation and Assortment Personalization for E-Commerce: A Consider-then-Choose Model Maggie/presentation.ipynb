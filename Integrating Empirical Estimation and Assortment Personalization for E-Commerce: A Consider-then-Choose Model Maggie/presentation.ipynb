{
 "cells": [
  {
   "cell_type": "markdown",
   "metadata": {},
   "source": [
    "<center><font face=\"New Times Roman\" size=10> Integrating Empirical Estimation and\n",
    "Assortment Personalization for E-Commerce: </font></center>\n",
    "    \n",
    "<center><font face=\"New Times Roman\" size=6>A Consider-then-Choose Model Maggie</font></center>"
   ]
  },
  {
   "cell_type": "markdown",
   "metadata": {},
   "source": [
    "$$\n",
    "\\tilde{U}_{i j t}=\\tilde{\\alpha}_{i}+\\tilde{x}_{i t} \\tilde{\\beta}+\\tilde{\\rho}_{i t}+\\xi_{i j t}+\\eta_{i j t}=\\tilde{V}_{i t}+\\xi_{i j t}+\\eta_{i j t}\n",
    "$$"
   ]
  },
  {
   "cell_type": "markdown",
   "metadata": {},
   "source": [
    "$$\n",
    "\\tilde{E} U_{j t}(S \\mid \\tilde{V}, \\xi)=\\log \\left(\\sum_{i \\in S} \\exp \\left(\\tilde{V}_{i t}+\\xi_{i j t}\\right)\\right)+\\mu\n",
    "$$"
   ]
  },
  {
   "cell_type": "markdown",
   "metadata": {},
   "source": [
    "$$\n",
    "B_{j t}(S \\mid \\tilde{V}, \\xi)=\\tilde{E} U_{j t}(S \\mid \\tilde{V}, \\xi)-|S| \\cdot C_{t}\n",
    "$$"
   ]
  },
  {
   "cell_type": "markdown",
   "metadata": {},
   "source": [
    "$$\n",
    "S_{j t}^{*}(\\tilde{V}, \\xi)=\\underset{S \\in 2^{I_{t}}}{\\operatorname{argmax}} B_{j t}(S \\mid \\tilde{V}, \\xi)\n",
    "$$"
   ]
  },
  {
   "cell_type": "markdown",
   "metadata": {},
   "source": [
    "$$\n",
    "U_{i j t}=\\alpha_{i}+x_{i t} \\beta+\\rho_{i t}+\\xi_{i j t}+\\epsilon_{i j t}=V_{i t}+\\xi_{i j t}+\\epsilon_{i j t}\n",
    "$$"
   ]
  },
  {
   "cell_type": "markdown",
   "metadata": {},
   "source": [
    "$$\n",
    "U_{i j t}=\\alpha_{i}+x_{i t} \\beta+\\rho_{i t}+\\xi_{i j t}+\\epsilon_{i j t}=V_{i t}+\\xi_{i j t}+\\epsilon_{i j t}\n",
    "$$"
   ]
  },
  {
   "cell_type": "markdown",
   "metadata": {},
   "source": [
    "$$\n",
    "\\operatorname{Pr}\\left[y_{i j t}=1 \\mid i \\in S\\right]=\\frac{\\exp \\left(V_{j t}+\\xi_{i j t}\\right)}{1+\\sum_{k \\in S} \\exp \\left(V_{k t}+\\xi_{k j t}\\right)}\n",
    "$$"
   ]
  },
  {
   "cell_type": "markdown",
   "metadata": {},
   "source": [
    "$$\n",
    "\\begin{aligned}\n",
    "\\operatorname{Pr}\\left[y_{i j t}=1\\right] &=\\sum_{S \\in 2^{I_{t}}} \\operatorname{Pr}\\left[S_{j t}=S\\right] \\cdot \\mathbf{1}[i \\in S] \\cdot \\operatorname{Pr}\\left[y_{i j t}=1 \\mid i \\in S\\right] \\\\\n",
    "&\\left.=\\int_{\\xi_{j t}} \\operatorname{Pr}\\left[y_{i j t}=1 \\mid i \\in S_{j t}^{*}\\left(\\tilde{V}_{i t}, \\xi_{i j t}\\right)\\right)\\right] \\phi\\left(\\xi_{\\cdot j t}\\right) d \\xi_{\\cdot j t}\n",
    "\\end{aligned}\n",
    "$$"
   ]
  },
  {
   "cell_type": "markdown",
   "metadata": {},
   "source": [
    "<font face=\"New Times Roman\" size=4>the model predicted view count for item i in period t</font>\n",
    "\n",
    "$$\n",
    "\\hat{U} V_{i t}=M_{t} \\cdot \\int_{\\xi_{i j t}} \\mathbf{1}\\left(i \\in S_{j t}^{*}\\left(\\tilde{V}_{i t}, \\xi_{i j t}\\right)\\right) \\phi\\left(\\xi_{i j t}\\right) d \\xi_{i j t}\n",
    "$$"
   ]
  },
  {
   "cell_type": "markdown",
   "metadata": {},
   "source": [
    "$$\n",
    "\\begin{aligned}\n",
    "\\min _{\\theta} &\\sum_{t=1}^{T} \\sum_{i \\in I_{t}}\\left|s_{i t}-\\hat{s}_{i t}\\right|\\\\\n",
    "\\text { s.t. } &\\sum_{i \\in I_{t}}\\left|U V_{i t}-U \\hat{V}_{i t}\\right| \\leq \\gamma \\cdot U V_{i t}, \\forall t=1, \\cdots, T,\n",
    "\\end{aligned}\n",
    "$$"
   ]
  },
  {
   "cell_type": "markdown",
   "metadata": {},
   "source": [
    "<font face=\"New Times Roman\" size=4>The first step</font>\n",
    "\n",
    "$$\n",
    "\\begin{array}{c}\n",
    "\\min _{\\tilde{V}_{i t}, V_{i t}, C_{i t}} \\sum_{i \\in I_{t}}\\left|s_{i t}-\\hat{s}_{i t}\\right| \\\\\n",
    "\\text { s.t. } \\sum_{i \\in I_{t}}\\left|U V_{i t}-U \\hat{V}_{i t}\\right| \\leq \\gamma \\cdot U V_{i t}\n",
    "\\end{array}\n",
    "$$"
   ]
  },
  {
   "cell_type": "markdown",
   "metadata": {},
   "source": [
    "$$\n",
    "R_{i}(A \\mid V, \\xi)=\\frac{\\exp \\left(V_{i}+\\xi_{i}\\right)}{1+\\sum_{k \\in A} \\exp \\left(V_{k}+\\xi_{k}\\right)} \\cdot p_{i}\n",
    "$$"
   ]
  },
  {
   "cell_type": "markdown",
   "metadata": {},
   "source": [
    "$$\n",
    "\\begin{array}{c}\n",
    "A^{*}(V, \\xi)=\\underset{A \\in Z^{I}}{\\arg \\max } \\sum_{i \\in A} R_{i}(A \\mid V, \\xi) \\\\\n",
    "\\text { s.t. }|A|<K(C)\n",
    "\\end{array}\n",
    "$$"
   ]
  },
  {
   "cell_type": "markdown",
   "metadata": {},
   "source": [
    "$$\n",
    "\\begin{array}{c}\n",
    "(\\text { OCSIO-Full }) \\quad P_{o p t}^{2}=\\min _{\\tilde{V}^{\\prime}}\\left\\|\\tilde{V}-\\tilde{V}^{\\prime}\\right\\|^{2} \\\\\n",
    "\\text { s.t. } B\\left(A^{*}(V, \\xi) \\mid \\tilde{V}^{\\prime}, \\xi\\right)>B\\left(S \\mid \\tilde{V}^{\\prime}, \\xi\\right), \\forall S \\in 2^{I} \\backslash\\left\\{A^{*}\\right\\} \\\\\n",
    "\\left\\|\\tilde{V}-\\tilde{V}^{\\prime}\\right\\|^{2} \\leq b^{2}\n",
    "\\end{array}\n",
    "$$"
   ]
  },
  {
   "cell_type": "markdown",
   "metadata": {},
   "source": [
    "Lemma 1 (Convex Marginal Benefit). Given a consideration set S, the marginal\n",
    "benefit of adding item i into the set is convex in the item’s utility zi = ˜Vi +ξi. The proof is presented in Appendix C.1"
   ]
  },
  {
   "cell_type": "markdown",
   "metadata": {},
   "source": [
    "Theorem 1 (Optimality of Popular Sets). If the items are ordered such that z1 ≥\n",
    "z2 ≥ · · · ≥ zN, for all i = 0, ...,N−1, if item i +1 is in the optimal consideration set, item i must also be in the optimal consideration set. The empty set is denoted by i = 0."
   ]
  },
  {
   "cell_type": "markdown",
   "metadata": {},
   "source": [
    "Corollary 1. Without loss of generality, reindex the items such that A∗(V, ξ) =\n",
    "{1, 2, ..., |A∗(V, ξ)|}. OCSIO-Full is equivalent to the following optimization (OCSIO)\n",
    "$$\n",
    "\\begin{array}{c}\n",
    "(\\mathrm{OCSIO}) \\quad P_{o p t}^{2}=\\min _{\\tilde{V}^{\\prime}}\\left\\|\\tilde{V}-\\tilde{V}^{\\prime}\\right\\|^{2} \\\\\n",
    "\\text { s.t. } B\\left(A^{*} \\mid \\tilde{V}^{\\prime}, \\xi\\right)>B\\left(S \\mid \\tilde{V}^{\\prime}, \\xi\\right), \\forall S \\in\\{\\varnothing,\\{1\\},\\{1,2\\},\\{1,2,3\\}, \\ldots, I\\} \\backslash\\left\\{A^{*}\\right\\} \\\\\n",
    "\\tilde{z}_{1} \\geq \\tilde{z}_{2} \\geq \\cdots \\geq \\tilde{z}_{N} \\\\\n",
    "\\left\\|\\tilde{V}-\\tilde{V}^{\\prime}\\right\\|^{2} \\leq b^{2}\n",
    "\\end{array}\n",
    "$$\n",
    "\n",
    "+ OCSIO is Not Necessarily Convex\n",
    "+ OCSIO is not Necessarily Feasible"
   ]
  },
  {
   "cell_type": "markdown",
   "metadata": {},
   "source": [
    "Theorem 2 (Sufficient and Necessary Condition for OCSIO Feasibility).\n",
    "Suppose b =∞, for any given assortment set A∗ with cardinality |A∗| = n ≤N, if n = 1, OCSIO is always feasible. For n ≥ 2, OCSIO is feasible if and only if C < K−1(n) =\n",
    "? n\n",
    "log\n",
    "n−1 ? . The proof is presented in Appendix C.4."
   ]
  },
  {
   "cell_type": "markdown",
   "metadata": {},
   "source": [
    "Given an empirically estimated viewing\n",
    "exp(C)\n",
    "cost C> 0, K(C) =\n",
    "is the maximum number of items a consumer is willing to exp(C)−1\n",
    "consider (and compare), regardless of the item utilities. We set K(C) as the assortment set capacity. As a result, if there is a sufficient utility adjustment budget (b =∞), then OCSIO is always feasible for any target assortment set A∗ : |A∗| <K(C)."
   ]
  },
  {
   "cell_type": "markdown",
   "metadata": {},
   "source": [
    "Proposition 2 (OCSIO Heuristic). For a feasible n-item OCSIO (|A∗| = n ≥ 2), suppose the original utility is V˜ = ˜V1, ..., ˜VN, and the consumer’s taste is given by ξ (N is\n",
    "the number of items available in the category). Given some accuracy tolerance ? > 0, we construct ˜V? in the following fashion:"
   ]
  },
  {
   "cell_type": "code",
   "execution_count": null,
   "metadata": {},
   "outputs": [],
   "source": []
  }
 ],
 "metadata": {
  "kernelspec": {
   "display_name": "Python 3",
   "language": "python",
   "name": "python3"
  },
  "language_info": {
   "codemirror_mode": {
    "name": "ipython",
    "version": 3
   },
   "file_extension": ".py",
   "mimetype": "text/x-python",
   "name": "python",
   "nbconvert_exporter": "python",
   "pygments_lexer": "ipython3",
   "version": "3.7.3"
  }
 },
 "nbformat": 4,
 "nbformat_minor": 2
}
